{
 "cells": [
  {
   "cell_type": "code",
   "execution_count": 1,
   "metadata": {
    "colab": {},
    "colab_type": "code",
    "id": "Kfd2PNM-lKON"
   },
   "outputs": [],
   "source": [
    "import pandas as pd\n",
    "from xgboost.sklearn import XGBRegressor\n",
    "from sklearn.metrics import mean_squared_error\n",
    "import numpy as np\n",
    "import matplotlib.pyplot as plt\n",
    "from time import time"
   ]
  },
  {
   "cell_type": "code",
   "execution_count": 2,
   "metadata": {
    "colab": {
     "base_uri": "https://localhost:8080/",
     "height": 68
    },
    "colab_type": "code",
    "id": "T52UzA0IlKOS",
    "outputId": "c94b10eb-65c1-4989-d45d-4780654cb293"
   },
   "outputs": [
    {
     "name": "stdout",
     "output_type": "stream",
     "text": [
      "610032\n",
      "71.0\n",
      "Creating training, validation, test set\n"
     ]
    }
   ],
   "source": [
    "df = pd.read_pickle('../data/matrix_features.pkl')\n",
    "print(len(df))\n",
    "total_hours = len(df['id_hour'].unique())\n",
    "print(len(df) / total_hours)\n",
    "# create training, test, validation set\n",
    "print('Creating training, validation, test set')\n",
    "train_size = int(total_hours*0.7)\n",
    "valid_size = int(total_hours*0.15)\n",
    "test_size = int(total_hours*0.15)\n",
    "df_train = df[df['id_hour'] < train_size]\n",
    "df_valid = df[(df['id_hour'] >= train_size) & (df['id_hour'] < (train_size+valid_size))]\n",
    "df_test = df[(df['id_hour'] >= (train_size+valid_size))]\n",
    "X_train, y_train = df_train.drop(['id_hour', 'net_rate'], axis=1), df_train['net_rate']\n",
    "X_valid, y_valid = df_valid.drop(['id_hour', 'net_rate'], axis=1), df_valid['net_rate']\n",
    "X_test, y_test = df_test.drop(['id_hour', 'net_rate'], axis=1), df_test['net_rate']\n",
    "del df_train\n",
    "del df_valid\n",
    "del df_test\n",
    "del df"
   ]
  },
  {
   "cell_type": "code",
   "execution_count": 3,
   "metadata": {
    "colab": {
     "base_uri": "https://localhost:8080/",
     "height": 3184
    },
    "colab_type": "code",
    "id": "NGFpQwKdlKOY",
    "outputId": "a8f9ff4f-dda5-4bf9-c99b-efcfe7372e80"
   },
   "outputs": [
    {
     "name": "stderr",
     "output_type": "stream",
     "text": [
      "/home/ds-vttek/anaconda3/lib/python3.6/site-packages/xgboost/core.py:587: FutureWarning: Series.base is deprecated and will be removed in a future version\n",
      "  if getattr(data, 'base', None) is not None and \\\n",
      "/home/ds-vttek/anaconda3/lib/python3.6/site-packages/xgboost/core.py:588: FutureWarning: Series.base is deprecated and will be removed in a future version\n",
      "  data.base is not None and isinstance(data, np.ndarray) \\\n"
     ]
    },
    {
     "name": "stdout",
     "output_type": "stream",
     "text": [
      "[0]\tvalidation_0-rmse:1.63967\tvalidation_1-rmse:1.69392\n",
      "Multiple eval metrics have been passed: 'validation_1-rmse' will be used for early stopping.\n",
      "\n",
      "Will train until validation_1-rmse hasn't improved in 10 rounds.\n",
      "[1]\tvalidation_0-rmse:1.57873\tvalidation_1-rmse:1.63762\n",
      "[2]\tvalidation_0-rmse:1.52047\tvalidation_1-rmse:1.58569\n",
      "[3]\tvalidation_0-rmse:1.48219\tvalidation_1-rmse:1.54796\n",
      "[4]\tvalidation_0-rmse:1.43377\tvalidation_1-rmse:1.51046\n",
      "[5]\tvalidation_0-rmse:1.40255\tvalidation_1-rmse:1.47708\n",
      "[6]\tvalidation_0-rmse:1.37545\tvalidation_1-rmse:1.45054\n",
      "[7]\tvalidation_0-rmse:1.35132\tvalidation_1-rmse:1.42363\n",
      "[8]\tvalidation_0-rmse:1.33105\tvalidation_1-rmse:1.40046\n",
      "[9]\tvalidation_0-rmse:1.29674\tvalidation_1-rmse:1.38323\n",
      "[10]\tvalidation_0-rmse:1.27885\tvalidation_1-rmse:1.36414\n",
      "[11]\tvalidation_0-rmse:1.26271\tvalidation_1-rmse:1.3494\n",
      "[12]\tvalidation_0-rmse:1.24782\tvalidation_1-rmse:1.336\n",
      "[13]\tvalidation_0-rmse:1.23464\tvalidation_1-rmse:1.32448\n",
      "[14]\tvalidation_0-rmse:1.22337\tvalidation_1-rmse:1.31368\n",
      "[15]\tvalidation_0-rmse:1.21219\tvalidation_1-rmse:1.30004\n",
      "[16]\tvalidation_0-rmse:1.19971\tvalidation_1-rmse:1.2898\n",
      "[17]\tvalidation_0-rmse:1.19062\tvalidation_1-rmse:1.28137\n",
      "[18]\tvalidation_0-rmse:1.1808\tvalidation_1-rmse:1.27338\n",
      "[19]\tvalidation_0-rmse:1.17196\tvalidation_1-rmse:1.2665\n",
      "[20]\tvalidation_0-rmse:1.16378\tvalidation_1-rmse:1.2596\n",
      "[21]\tvalidation_0-rmse:1.15655\tvalidation_1-rmse:1.25293\n",
      "[22]\tvalidation_0-rmse:1.14964\tvalidation_1-rmse:1.24757\n",
      "[23]\tvalidation_0-rmse:1.14362\tvalidation_1-rmse:1.2427\n",
      "[24]\tvalidation_0-rmse:1.13743\tvalidation_1-rmse:1.23813\n",
      "[25]\tvalidation_0-rmse:1.13152\tvalidation_1-rmse:1.23374\n",
      "[26]\tvalidation_0-rmse:1.12639\tvalidation_1-rmse:1.23054\n",
      "[27]\tvalidation_0-rmse:1.12208\tvalidation_1-rmse:1.22687\n",
      "[28]\tvalidation_0-rmse:1.11747\tvalidation_1-rmse:1.22392\n",
      "[29]\tvalidation_0-rmse:1.11311\tvalidation_1-rmse:1.22108\n",
      "[30]\tvalidation_0-rmse:1.10941\tvalidation_1-rmse:1.21858\n",
      "[31]\tvalidation_0-rmse:1.10583\tvalidation_1-rmse:1.21637\n",
      "[32]\tvalidation_0-rmse:1.10244\tvalidation_1-rmse:1.21433\n",
      "[33]\tvalidation_0-rmse:1.09921\tvalidation_1-rmse:1.2122\n",
      "[34]\tvalidation_0-rmse:1.09657\tvalidation_1-rmse:1.21089\n",
      "[35]\tvalidation_0-rmse:1.09351\tvalidation_1-rmse:1.20868\n",
      "[36]\tvalidation_0-rmse:1.09128\tvalidation_1-rmse:1.20704\n",
      "[37]\tvalidation_0-rmse:1.08916\tvalidation_1-rmse:1.20566\n",
      "[38]\tvalidation_0-rmse:1.08658\tvalidation_1-rmse:1.20428\n",
      "[39]\tvalidation_0-rmse:1.08474\tvalidation_1-rmse:1.20293\n",
      "[40]\tvalidation_0-rmse:1.08262\tvalidation_1-rmse:1.20202\n",
      "[41]\tvalidation_0-rmse:1.08063\tvalidation_1-rmse:1.20125\n",
      "[42]\tvalidation_0-rmse:1.07875\tvalidation_1-rmse:1.20007\n",
      "[43]\tvalidation_0-rmse:1.0772\tvalidation_1-rmse:1.19921\n",
      "[44]\tvalidation_0-rmse:1.07527\tvalidation_1-rmse:1.19865\n",
      "[45]\tvalidation_0-rmse:1.07378\tvalidation_1-rmse:1.19805\n",
      "[46]\tvalidation_0-rmse:1.07198\tvalidation_1-rmse:1.19726\n",
      "[47]\tvalidation_0-rmse:1.07057\tvalidation_1-rmse:1.19683\n",
      "[48]\tvalidation_0-rmse:1.06953\tvalidation_1-rmse:1.19633\n",
      "[49]\tvalidation_0-rmse:1.06805\tvalidation_1-rmse:1.19554\n",
      "[50]\tvalidation_0-rmse:1.06686\tvalidation_1-rmse:1.19508\n",
      "[51]\tvalidation_0-rmse:1.0656\tvalidation_1-rmse:1.19481\n",
      "[52]\tvalidation_0-rmse:1.06459\tvalidation_1-rmse:1.19446\n",
      "[53]\tvalidation_0-rmse:1.06356\tvalidation_1-rmse:1.19409\n",
      "[54]\tvalidation_0-rmse:1.06251\tvalidation_1-rmse:1.19378\n",
      "[55]\tvalidation_0-rmse:1.06123\tvalidation_1-rmse:1.19315\n",
      "[56]\tvalidation_0-rmse:1.06045\tvalidation_1-rmse:1.19281\n",
      "[57]\tvalidation_0-rmse:1.05955\tvalidation_1-rmse:1.19291\n",
      "[58]\tvalidation_0-rmse:1.0591\tvalidation_1-rmse:1.19267\n",
      "[59]\tvalidation_0-rmse:1.05828\tvalidation_1-rmse:1.19225\n",
      "[60]\tvalidation_0-rmse:1.05719\tvalidation_1-rmse:1.19212\n",
      "[61]\tvalidation_0-rmse:1.0561\tvalidation_1-rmse:1.19151\n",
      "[62]\tvalidation_0-rmse:1.055\tvalidation_1-rmse:1.19122\n",
      "[63]\tvalidation_0-rmse:1.05414\tvalidation_1-rmse:1.19127\n",
      "[64]\tvalidation_0-rmse:1.05368\tvalidation_1-rmse:1.19104\n",
      "[65]\tvalidation_0-rmse:1.05247\tvalidation_1-rmse:1.1906\n",
      "[66]\tvalidation_0-rmse:1.05129\tvalidation_1-rmse:1.19056\n",
      "[67]\tvalidation_0-rmse:1.05079\tvalidation_1-rmse:1.1907\n",
      "[68]\tvalidation_0-rmse:1.05008\tvalidation_1-rmse:1.19055\n",
      "[69]\tvalidation_0-rmse:1.04901\tvalidation_1-rmse:1.19063\n",
      "[70]\tvalidation_0-rmse:1.04857\tvalidation_1-rmse:1.19047\n",
      "[71]\tvalidation_0-rmse:1.04781\tvalidation_1-rmse:1.19055\n",
      "[72]\tvalidation_0-rmse:1.0467\tvalidation_1-rmse:1.19052\n",
      "[73]\tvalidation_0-rmse:1.04599\tvalidation_1-rmse:1.19048\n",
      "[74]\tvalidation_0-rmse:1.04482\tvalidation_1-rmse:1.18988\n",
      "[75]\tvalidation_0-rmse:1.04409\tvalidation_1-rmse:1.18961\n",
      "[76]\tvalidation_0-rmse:1.04312\tvalidation_1-rmse:1.18932\n",
      "[77]\tvalidation_0-rmse:1.0428\tvalidation_1-rmse:1.18929\n",
      "[78]\tvalidation_0-rmse:1.04189\tvalidation_1-rmse:1.18912\n",
      "[79]\tvalidation_0-rmse:1.04137\tvalidation_1-rmse:1.18914\n",
      "[80]\tvalidation_0-rmse:1.04034\tvalidation_1-rmse:1.18923\n",
      "[81]\tvalidation_0-rmse:1.03974\tvalidation_1-rmse:1.18912\n",
      "[82]\tvalidation_0-rmse:1.03894\tvalidation_1-rmse:1.18893\n",
      "[83]\tvalidation_0-rmse:1.03828\tvalidation_1-rmse:1.1889\n",
      "[84]\tvalidation_0-rmse:1.0377\tvalidation_1-rmse:1.18867\n",
      "[85]\tvalidation_0-rmse:1.03725\tvalidation_1-rmse:1.18865\n",
      "[86]\tvalidation_0-rmse:1.03627\tvalidation_1-rmse:1.18855\n",
      "[87]\tvalidation_0-rmse:1.03582\tvalidation_1-rmse:1.18864\n",
      "[88]\tvalidation_0-rmse:1.03486\tvalidation_1-rmse:1.18801\n",
      "[89]\tvalidation_0-rmse:1.03371\tvalidation_1-rmse:1.18789\n",
      "[90]\tvalidation_0-rmse:1.03284\tvalidation_1-rmse:1.1878\n",
      "[91]\tvalidation_0-rmse:1.03194\tvalidation_1-rmse:1.18771\n",
      "[92]\tvalidation_0-rmse:1.03122\tvalidation_1-rmse:1.18761\n",
      "[93]\tvalidation_0-rmse:1.03015\tvalidation_1-rmse:1.18756\n",
      "[94]\tvalidation_0-rmse:1.02977\tvalidation_1-rmse:1.1876\n",
      "[95]\tvalidation_0-rmse:1.02894\tvalidation_1-rmse:1.1872\n",
      "[96]\tvalidation_0-rmse:1.02788\tvalidation_1-rmse:1.18726\n",
      "[97]\tvalidation_0-rmse:1.027\tvalidation_1-rmse:1.18704\n",
      "[98]\tvalidation_0-rmse:1.02679\tvalidation_1-rmse:1.18707\n",
      "[99]\tvalidation_0-rmse:1.0263\tvalidation_1-rmse:1.18697\n",
      "[100]\tvalidation_0-rmse:1.02538\tvalidation_1-rmse:1.18681\n",
      "[101]\tvalidation_0-rmse:1.02511\tvalidation_1-rmse:1.1866\n",
      "[102]\tvalidation_0-rmse:1.02414\tvalidation_1-rmse:1.18664\n",
      "[103]\tvalidation_0-rmse:1.02385\tvalidation_1-rmse:1.18663\n",
      "[104]\tvalidation_0-rmse:1.02319\tvalidation_1-rmse:1.18643\n",
      "[105]\tvalidation_0-rmse:1.02288\tvalidation_1-rmse:1.18644\n",
      "[106]\tvalidation_0-rmse:1.02222\tvalidation_1-rmse:1.18638\n",
      "[107]\tvalidation_0-rmse:1.02189\tvalidation_1-rmse:1.18633\n",
      "[108]\tvalidation_0-rmse:1.0208\tvalidation_1-rmse:1.18628\n",
      "[109]\tvalidation_0-rmse:1.02061\tvalidation_1-rmse:1.18613\n",
      "[110]\tvalidation_0-rmse:1.02041\tvalidation_1-rmse:1.18642\n",
      "[111]\tvalidation_0-rmse:1.02002\tvalidation_1-rmse:1.18648\n",
      "[112]\tvalidation_0-rmse:1.01962\tvalidation_1-rmse:1.18637\n",
      "[113]\tvalidation_0-rmse:1.01884\tvalidation_1-rmse:1.18611\n",
      "[114]\tvalidation_0-rmse:1.01819\tvalidation_1-rmse:1.18604\n",
      "[115]\tvalidation_0-rmse:1.01775\tvalidation_1-rmse:1.18595\n",
      "[116]\tvalidation_0-rmse:1.01734\tvalidation_1-rmse:1.18594\n",
      "[117]\tvalidation_0-rmse:1.01683\tvalidation_1-rmse:1.18588\n",
      "[118]\tvalidation_0-rmse:1.01598\tvalidation_1-rmse:1.18588\n",
      "[119]\tvalidation_0-rmse:1.01571\tvalidation_1-rmse:1.18601\n",
      "[120]\tvalidation_0-rmse:1.0151\tvalidation_1-rmse:1.18612\n",
      "[121]\tvalidation_0-rmse:1.0147\tvalidation_1-rmse:1.18621\n",
      "[122]\tvalidation_0-rmse:1.01395\tvalidation_1-rmse:1.1861\n",
      "[123]\tvalidation_0-rmse:1.01325\tvalidation_1-rmse:1.18601\n",
      "[124]\tvalidation_0-rmse:1.01311\tvalidation_1-rmse:1.18599\n",
      "[125]\tvalidation_0-rmse:1.012\tvalidation_1-rmse:1.18591\n",
      "[126]\tvalidation_0-rmse:1.01107\tvalidation_1-rmse:1.18587\n",
      "[127]\tvalidation_0-rmse:1.01073\tvalidation_1-rmse:1.18597\n",
      "[128]\tvalidation_0-rmse:1.01038\tvalidation_1-rmse:1.18578\n",
      "[129]\tvalidation_0-rmse:1.00966\tvalidation_1-rmse:1.18549\n",
      "[130]\tvalidation_0-rmse:1.00926\tvalidation_1-rmse:1.18542\n",
      "[131]\tvalidation_0-rmse:1.0092\tvalidation_1-rmse:1.18545\n",
      "[132]\tvalidation_0-rmse:1.00857\tvalidation_1-rmse:1.18503\n",
      "[133]\tvalidation_0-rmse:1.00796\tvalidation_1-rmse:1.18498\n",
      "[134]\tvalidation_0-rmse:1.00754\tvalidation_1-rmse:1.18494\n",
      "[135]\tvalidation_0-rmse:1.0068\tvalidation_1-rmse:1.18493\n",
      "[136]\tvalidation_0-rmse:1.00599\tvalidation_1-rmse:1.18488\n",
      "[137]\tvalidation_0-rmse:1.0058\tvalidation_1-rmse:1.18485\n",
      "[138]\tvalidation_0-rmse:1.00555\tvalidation_1-rmse:1.18467\n",
      "[139]\tvalidation_0-rmse:1.00499\tvalidation_1-rmse:1.18463\n",
      "[140]\tvalidation_0-rmse:1.00421\tvalidation_1-rmse:1.18456\n",
      "[141]\tvalidation_0-rmse:1.00342\tvalidation_1-rmse:1.18443\n"
     ]
    },
    {
     "name": "stdout",
     "output_type": "stream",
     "text": [
      "[142]\tvalidation_0-rmse:1.00288\tvalidation_1-rmse:1.18413\n",
      "[143]\tvalidation_0-rmse:1.00211\tvalidation_1-rmse:1.18383\n",
      "[144]\tvalidation_0-rmse:1.00142\tvalidation_1-rmse:1.18367\n",
      "[145]\tvalidation_0-rmse:1.00039\tvalidation_1-rmse:1.18324\n",
      "[146]\tvalidation_0-rmse:0.999876\tvalidation_1-rmse:1.18309\n",
      "[147]\tvalidation_0-rmse:0.99931\tvalidation_1-rmse:1.18305\n",
      "[148]\tvalidation_0-rmse:0.998874\tvalidation_1-rmse:1.18277\n",
      "[149]\tvalidation_0-rmse:0.997953\tvalidation_1-rmse:1.18286\n",
      "[150]\tvalidation_0-rmse:0.997784\tvalidation_1-rmse:1.1829\n",
      "[151]\tvalidation_0-rmse:0.997184\tvalidation_1-rmse:1.18308\n",
      "[152]\tvalidation_0-rmse:0.996963\tvalidation_1-rmse:1.18313\n",
      "[153]\tvalidation_0-rmse:0.996579\tvalidation_1-rmse:1.18323\n",
      "[154]\tvalidation_0-rmse:0.995777\tvalidation_1-rmse:1.1832\n",
      "[155]\tvalidation_0-rmse:0.995306\tvalidation_1-rmse:1.18307\n",
      "[156]\tvalidation_0-rmse:0.995105\tvalidation_1-rmse:1.18308\n",
      "[157]\tvalidation_0-rmse:0.994918\tvalidation_1-rmse:1.1832\n",
      "[158]\tvalidation_0-rmse:0.994371\tvalidation_1-rmse:1.18311\n",
      "Stopping. Best iteration:\n",
      "[148]\tvalidation_0-rmse:0.998874\tvalidation_1-rmse:1.18277\n",
      "\n",
      "Total of training time:  427.3308789730072\n"
     ]
    },
    {
     "data": {
      "image/png": "[encoded data removed]",
      "text/plain": [
       "<matplotlib.figure.Figure at 0x7fa3f0c327b8>"
      ]
     },
     "metadata": {},
     "output_type": "display_data"
    }
   ],
   "source": [
    "t1 = time()\n",
    "model = XGBRegressor(max_depth=7, n_estimators=500) #, min_child_weight=100, colsample_bytree=0.8, subsample=0.8, eta=0.3, seed=42)\n",
    "model.fit(X_train, y_train, eval_metric=\"rmse\", \n",
    "          eval_set=[(X_train, y_train), (X_valid, y_valid)], verbose=True, early_stopping_rounds = 10)\n",
    "t2 = time()\n",
    "print('Total of training time: ', t2-t1)\n",
    "results = model.evals_result()\n",
    "epochs = len(results['validation_0']['rmse'])\n",
    "x_axis = range(0, epochs)\n",
    "# plot log loss\n",
    "plt.plot(x_axis, results['validation_0']['rmse'], label='Train')\n",
    "plt.plot(x_axis, results['validation_1']['rmse'], label='Valid')\n",
    "plt.legend()\n",
    "plt.ylabel('RMSE')\n",
    "plt.title('XGBoost RMSE')\n",
    "plt.show()"
   ]
  },
  {
   "cell_type": "code",
   "execution_count": 4,
   "metadata": {
    "colab": {
     "base_uri": "https://localhost:8080/",
     "height": 34
    },
    "colab_type": "code",
    "id": "Q78tOA0UlKOc",
    "outputId": "de115df0-4b75-407a-ea58-3087d8f9934d"
   },
   "outputs": [
    {
     "name": "stdout",
     "output_type": "stream",
     "text": [
      "RMSE:  1.2037425396570232\n"
     ]
    }
   ],
   "source": [
    "y_pred = model.predict(X_test)\n",
    "print('RMSE: ', np.sqrt(mean_squared_error(y_test, y_pred)))"
   ]
  },
  {
   "cell_type": "code",
   "execution_count": 5,
   "metadata": {
    "colab": {
     "base_uri": "https://localhost:8080/",
     "height": 393
    },
    "colab_type": "code",
    "id": "IElS_v4-pDKK",
    "outputId": "8585bd21-a470-4304-9488-1212a86a08d7"
   },
   "outputs": [
    {
     "data": {
      "text/plain": [
       "<matplotlib.axes._subplots.AxesSubplot at 0x7fa3f0c32160>"
      ]
     },
     "execution_count": 5,
     "metadata": {},
     "output_type": "execute_result"
    },
    {
     "data": {
      "image/png": "[encoded data removed]",
      "text/plain": [
       "<matplotlib.figure.Figure at 0x7fa3f0bb2160>"
      ]
     },
     "metadata": {},
     "output_type": "display_data"
    }
   ],
   "source": [
    "from xgboost import plot_importance\n",
    "import matplotlib.pyplot as plt\n",
    "\n",
    "#fig, ax = plt.subplots(1,1,figsize=(10,10))\n",
    "plot_importance(model, max_num_features=25, grid=False, height=0.5, importance_type='weight')"
   ]
  },
  {
   "cell_type": "code",
   "execution_count": 6,
   "metadata": {
    "colab": {
     "base_uri": "https://localhost:8080/",
     "height": 459
    },
    "colab_type": "code",
    "id": "BaU-B6pprqwZ",
    "outputId": "c3105978-4a01-4825-fb0f-a506fb6be2a9"
   },
   "outputs": [
    {
     "name": "stdout",
     "output_type": "stream",
     "text": [
      "Iteration 1, loss = 2.41878332\n",
      "Iteration 2, loss = 0.78417873\n",
      "Iteration 3, loss = 0.76495343\n",
      "Iteration 4, loss = 0.76550852\n",
      "Iteration 5, loss = 0.75561234\n",
      "Iteration 6, loss = 0.74535258\n",
      "Iteration 7, loss = 0.73971033\n",
      "Iteration 8, loss = 0.74179790\n",
      "Iteration 9, loss = 1.04021632\n",
      "Iteration 10, loss = 0.83988162\n",
      "Iteration 11, loss = 0.73809858\n",
      "Iteration 12, loss = 0.72484915\n",
      "Iteration 13, loss = 0.72887120\n",
      "Iteration 14, loss = 0.72816621\n",
      "Iteration 15, loss = 0.75394014\n",
      "Iteration 16, loss = 0.72410719\n",
      "Iteration 17, loss = 0.73266557\n",
      "Iteration 18, loss = 0.72567261\n",
      "Iteration 19, loss = 0.72251789\n",
      "Iteration 20, loss = 0.71769765\n",
      "Iteration 21, loss = 0.70429677\n",
      "Iteration 22, loss = 0.71470585\n",
      "Iteration 23, loss = 0.70656667\n",
      "Iteration 24, loss = 0.71546626\n",
      "Iteration 25, loss = 0.70723777\n",
      "Iteration 26, loss = 0.70799436\n",
      "Iteration 27, loss = 0.70284063\n",
      "Iteration 28, loss = 0.70502989\n",
      "Iteration 29, loss = 0.70683873\n",
      "Iteration 30, loss = 0.70467267\n",
      "Iteration 31, loss = 0.70260470\n",
      "Iteration 32, loss = 0.71002188\n",
      "Iteration 33, loss = 0.71047874\n",
      "Iteration 34, loss = 0.70329310\n",
      "Iteration 35, loss = 0.71858774\n",
      "Iteration 36, loss = 0.70982512\n",
      "Iteration 37, loss = 0.70561940\n",
      "Iteration 38, loss = 0.71239323\n",
      "Iteration 39, loss = 0.70499478\n",
      "Iteration 40, loss = 0.71678512\n",
      "Iteration 41, loss = 0.71866152\n",
      "Iteration 42, loss = 0.71281249\n",
      "Training loss did not improve more than tol=0.000100 for 10 consecutive epochs. Stopping.\n",
      "RMSE Neural Network:  1.2688953443984432\n"
     ]
    }
   ],
   "source": [
    "from sklearn.neural_network import MLPRegressor\n",
    "\n",
    "\n",
    "model = MLPRegressor(hidden_layer_sizes=(128, 64, 64,32), learning_rate_init=0.01, verbose=True, max_iter=200)\n",
    "concat_X_train = X_train.append(X_valid)\n",
    "concat_y_train = y_train.append(y_valid)\n",
    "model.fit(X_train.values, y_train.values)\n",
    "y_pred = model.predict(X_test.values)\n",
    "print('RMSE Neural Network: ', np.sqrt(mean_squared_error(y_test.values, y_pred)))"
   ]
  },
  {
   "cell_type": "code",
   "execution_count": 0,
   "metadata": {
    "colab": {},
    "colab_type": "code",
    "id": "vA2R6BfQisj4"
   },
   "outputs": [],
   "source": []
  }
 ],
 "metadata": {
  "colab": {
   "name": "run_model.ipynb",
   "provenance": [],
   "version": "0.3.2"
  },
  "kernelspec": {
   "display_name": "Python 3",
   "language": "python",
   "name": "python3"
  },
  "language_info": {
   "codemirror_mode": {
    "name": "ipython",
    "version": 3
   },
   "file_extension": ".py",
   "mimetype": "text/x-python",
   "name": "python",
   "nbconvert_exporter": "python",
   "pygments_lexer": "ipython3",
   "version": "3.6.4"
  }
 },
 "nbformat": 4,
 "nbformat_minor": 1
}
